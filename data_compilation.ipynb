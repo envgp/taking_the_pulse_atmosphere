{
 "cells": [
  {
   "cell_type": "code",
   "execution_count": 1,
   "id": "3207be2f",
   "metadata": {},
   "outputs": [],
   "source": [
    "import numpy as np\n",
    "import xarray as xr\n",
    "import pandas as pd\n",
    "import geopandas as gpd\n",
    "import matplotlib.pyplot as plt\n",
    "import matplotlib.dates as mdates\n",
    "import matplotlib\n",
    "import cartopy.crs as ccrs\n",
    "import cartopy.feature as cf\n",
    "import datetime\n",
    "matplotlib.rcParams['font.size'] = 14"
   ]
  },
  {
   "cell_type": "code",
   "execution_count": 2,
   "id": "16a6c3cc",
   "metadata": {},
   "outputs": [],
   "source": [
    "output_dir = \"C://Users//sgkan//Projects//taking_the_pulse_atmosphere_data//\""
   ]
  },
  {
   "cell_type": "code",
   "execution_count": 3,
   "id": "4abe71df",
   "metadata": {},
   "outputs": [],
   "source": [
    "co2_data = xr.load_dataset(\"D:/pulse_course/Pulse_CO2_CH4-20221219T221922Z-001/Pulse_CO2_CH4/Datasets/CO2_05_month_201501_202112.nc\")\n",
    "lat = co2_data['lat_CO2'].data.flatten()[::2]\n",
    "lon = co2_data['lon_CO2'].data.flatten()[::2]\n",
    "co2_matrix = co2_data['XCO2_ppmv'].data.reshape(84, 360, 720, order='F')\n",
    "dates_series = pd.date_range('2015-1-1', '2022-1-1', freq='M')\n",
    "ds = xr.Dataset(\n",
    "    {\"co2\": ((\"time\", \"lat\", \"lon\"), co2_matrix[:,::2,::2])},\n",
    "    coords={\n",
    "        \"time\": dates_series,\n",
    "        \"lon\": lon,\n",
    "        \"lat\": lat\n",
    "    },\n",
    ")\n",
    "ds.attrs = {\n",
    "    \"Description\": \"CO2 data\",\n",
    "    \"Unit\": \"ppmv (part per million per volume)\",\n",
    "    \"Data document\": \"https://disc.gsfc.nasa.gov/datasets/OCO2_GEOS_L3CO2_MONTH_10r/summary\"\n",
    "}\n",
    "\n",
    "ds.to_netcdf(output_dir+\"co2.nc\")"
   ]
  },
  {
   "cell_type": "markdown",
   "id": "79181823",
   "metadata": {},
   "source": [
    "https://disc.gsfc.nasa.gov/datasets/SNDRAQIL3CMCCP_2/summary"
   ]
  },
  {
   "cell_type": "code",
   "execution_count": 4,
   "id": "0a4306f5",
   "metadata": {},
   "outputs": [],
   "source": [
    "co_data = xr.load_dataset(\"D:/pulse_course/Pulse_CO2_CH4-20221219T221922Z-001/Pulse_CO2_CH4/Datasets/CO_01_month_200501_202112.nc\")\n",
    "lat = co_data['lat_CO'].data.flatten()[::10]\n",
    "lon = co_data['lon_CO'].data.flatten()[::10]\n",
    "dates_series = pd.date_range('2005-1-1', '2022-1-1', freq='M')\n",
    "\n",
    "co_matrix = co_data['CO_col0'].data.reshape(len(dates_series), 180, 360, order='F')\n",
    "ds = xr.Dataset(\n",
    "    {\"co\": ((\"time\", \"lat\", \"lon\"), co_matrix)},\n",
    "    coords={\n",
    "        \"time\": dates_series,\n",
    "        \"lon\": lon,\n",
    "        \"lat\": lat\n",
    "    },\n",
    ")\n",
    "ds.attrs = {\n",
    "    \"Description\": \"CO data\",\n",
    "    \"Unit\": \"mole /cm^2\",\n",
    "    \"Data document\": \"https://disc.gsfc.nasa.gov/datasets/AIRS3STD_7.0/summary\"\n",
    "}\n",
    "\n",
    "ds.to_netcdf(output_dir+\"co.nc\")"
   ]
  },
  {
   "cell_type": "code",
   "execution_count": 5,
   "id": "d547f664",
   "metadata": {},
   "outputs": [
    {
     "data": {
      "text/plain": [
       "2.9029529334841344e+17"
      ]
     },
     "execution_count": 5,
     "metadata": {},
     "output_type": "execute_result"
    }
   ],
   "source": [
    "co_data['CO_col0'].data[~np.isnan(co_data['CO_col0'].data)].min()"
   ]
  },
  {
   "cell_type": "code",
   "execution_count": 6,
   "id": "c74889ec",
   "metadata": {},
   "outputs": [
    {
     "data": {
      "text/plain": [
       "7.137530309242782e+18"
      ]
     },
     "execution_count": 6,
     "metadata": {},
     "output_type": "execute_result"
    }
   ],
   "source": [
    "co_data['CO_col0'].data[~np.isnan(co_data['CO_col0'].data)].max()"
   ]
  },
  {
   "cell_type": "code",
   "execution_count": 7,
   "id": "98288760",
   "metadata": {},
   "outputs": [],
   "source": [
    "no2_data = xr.load_dataset(\"D:/pulse_course/Pulse_CO2_CH4-20221219T221922Z-001/Pulse_CO2_CH4/Datasets/NO2_025_month_200501_202112.nc\")\n",
    "lat = no2_data['lat_NO2'].data.flatten()\n",
    "lon = no2_data['lon_NO2'].data.flatten()\n",
    "dates_series = pd.date_range('2005-1-1', '2022-1-1', freq='M')\n",
    "\n",
    "no2_matrix = no2_data['NO2_trop0'].data.reshape(len(dates_series), len(lat), len(lon), order='F')\n",
    "ds = xr.Dataset(\n",
    "    {\"no2\": ((\"time\", \"lat\", \"lon\"), no2_matrix[:,::4, ::4])},\n",
    "    coords={\n",
    "        \"time\": dates_series,\n",
    "        \"lon\": lon[::4],\n",
    "        \"lat\": lat[::4]\n",
    "    },\n",
    ")\n",
    "ds.attrs = {\n",
    "    \"Description\": \"NO2 data\",\n",
    "    \"Unit\": \"molecules /cm^2\",\n",
    "    \"Data document\": \"https://disc.gsfc.nasa.gov/datasets/OMNO2d_003/summary\"\n",
    "}\n",
    "ds.to_netcdf(output_dir+\"no2.nc\")"
   ]
  },
  {
   "cell_type": "code",
   "execution_count": 8,
   "id": "cc023352",
   "metadata": {},
   "outputs": [
    {
     "data": {
      "text/plain": [
       "'9.4e+07'"
      ]
     },
     "execution_count": 8,
     "metadata": {},
     "output_type": "execute_result"
    }
   ],
   "source": [
    "\"{:.1e}\".format(no2_data['NO2_trop0'].data[~np.isnan(no2_data['NO2_trop0'].data)].min())"
   ]
  },
  {
   "cell_type": "code",
   "execution_count": 9,
   "id": "d3fd7fe0",
   "metadata": {},
   "outputs": [
    {
     "data": {
      "text/plain": [
       "6.035183676633907e+16"
      ]
     },
     "execution_count": 9,
     "metadata": {},
     "output_type": "execute_result"
    }
   ],
   "source": [
    "no2_data['NO2_trop0'].data[~np.isnan(no2_data['NO2_trop0'].data)].max()"
   ]
  },
  {
   "cell_type": "code",
   "execution_count": 14,
   "id": "f08abbb7",
   "metadata": {},
   "outputs": [],
   "source": [
    "ch4_data = xr.load_dataset(\"D:/pulse_course/Pulse_CO2_CH4-20221219T221922Z-001/Pulse_CO2_CH4/Datasets/CH4_005_month_202204_202206.nc\")\n",
    "lat = ch4_data['lat_CH4'].data.flatten()\n",
    "lon = ch4_data['lon_CH4'].data.flatten()\n",
    "dates_series = pd.date_range('2022-2-1', '2022-5-1', freq='M')\n",
    "nskip = 20\n",
    "ch4_matrix = ch4_data['CH4_ppbv'].data.reshape(len(dates_series), len(lat), len(lon), order='F')\n",
    "ds = xr.Dataset(\n",
    "    {\"ch4\": ((\"time\", \"lat\", \"lon\"), ch4_matrix[:,::nskip, ::nskip])},\n",
    "    coords={\n",
    "        \"time\": dates_series,\n",
    "        \"lon\": lon[::nskip],\n",
    "        \"lat\": lat[::nskip]\n",
    "    },\n",
    ")\n",
    "ds.attrs = {\n",
    "    \"Description\": \"CH4 data\",\n",
    "    \"Unit\": \"ppbv (part per billion per volume)\",\n",
    "    \"Data document\": \"https://sentinels.copernicus.eu/web/sentinel/data-products/-/asset_publisher/fp37fc19FN8F/content/tropomi-level-2-methane\"\n",
    "}\n",
    "\n",
    "ds.to_netcdf(output_dir+\"ch4.nc\")"
   ]
  },
  {
   "cell_type": "code",
   "execution_count": 11,
   "id": "23e90949",
   "metadata": {},
   "outputs": [
    {
     "data": {
      "text/plain": [
       "3719.0"
      ]
     },
     "execution_count": 11,
     "metadata": {},
     "output_type": "execute_result"
    }
   ],
   "source": [
    "ch4_data['CH4_ppbv'].data[~np.isnan(ch4_data['CH4_ppbv'].data)].max()"
   ]
  },
  {
   "cell_type": "code",
   "execution_count": 12,
   "id": "d9ec4349",
   "metadata": {},
   "outputs": [
    {
     "data": {
      "text/plain": [
       "709.0"
      ]
     },
     "execution_count": 12,
     "metadata": {},
     "output_type": "execute_result"
    }
   ],
   "source": [
    "ch4_data['CH4_ppbv'].data[~np.isnan(ch4_data['CH4_ppbv'].data)].min()"
   ]
  }
 ],
 "metadata": {
  "kernelspec": {
   "display_name": "Python 3 (ipykernel)",
   "language": "python",
   "name": "python3"
  },
  "language_info": {
   "codemirror_mode": {
    "name": "ipython",
    "version": 3
   },
   "file_extension": ".py",
   "mimetype": "text/x-python",
   "name": "python",
   "nbconvert_exporter": "python",
   "pygments_lexer": "ipython3",
   "version": "3.9.5"
  }
 },
 "nbformat": 4,
 "nbformat_minor": 5
}
